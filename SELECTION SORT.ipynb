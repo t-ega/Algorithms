{
 "cells": [
  {
   "cell_type": "code",
   "execution_count": 49,
   "id": "66fb762a",
   "metadata": {},
   "outputs": [
    {
     "name": "stdout",
     "output_type": "stream",
     "text": [
      "[-7904, -456, -100, -45, -3, 0, 4, 5, 34, 456]\n",
      "[1, 2, 3, 4, 7, 8, 9]\n",
      "[2, 3, 4, 6, 9, 10]\n",
      "[1, 2, 5, 7, 9]\n",
      "[1, 2, 3, 4, 6, 7, 8, 9]\n",
      "[-2, -1, 0, 3, 5]\n"
     ]
    }
   ],
   "source": [
    "def find_smallest(array):\n",
    "    # Time complexity: O(n), where n is the length of the array\n",
    "    smallest = array[0]\n",
    "    index = 0\n",
    "    for i, value in enumerate(array):\n",
    "        if value < smallest:\n",
    "            smallest = value\n",
    "            index = i\n",
    "    return (smallest, index)\n",
    "\n",
    "\n",
    "def sort_list(array) -> list:\n",
    "    # Time complexity: O(n^2), where n is the length of the array\n",
    "    # Space complexity: O(1)\n",
    "    if len(array) == 0:\n",
    "        return []\n",
    "    \n",
    "    # keeps track of the number of times the loop has ran\n",
    "    current_iteration = 0\n",
    "    # intialize a temporay variable to swap the elements\n",
    "    temp = 0\n",
    "    array_len = len(array)\n",
    "    \n",
    "    while current_iteration < array_len:\n",
    "        # get the current smallest item in the array \n",
    "        smallest, smallest_index = find_smallest(array[current_iteration:])\n",
    "        # get the nth iteration in the array i.e if the loop has ran \n",
    "        # twice the elements at the first and second would be sorted\n",
    "        temp = array[current_iteration]\n",
    "        # assign it to the smallest element found\n",
    "        array[current_iteration] = smallest\n",
    "        # the array is being sliced, so the index of the smallest element keeps changing\n",
    "        # add the current iteration count to that index and we get the actual position \n",
    "        # of the smallest element\n",
    "        array[smallest_index + current_iteration] = temp\n",
    "        # increment the current iteration\n",
    "        current_iteration += 1\n",
    "    return array\n",
    "        \n",
    "        \n",
    "print(sort_list([5,-3,456,4,-100, -45,34,-7904,0,-456]))\n",
    "print(sort_list([8, 3, 1, 7, 4, 9, 2]))\n",
    "print(sort_list([10, 4, 6, 2, 9, 3]))\n",
    "print(sort_list([5, 2, 9, 1, 7]))\n",
    "print(sort_list([4, 8, 3, 6, 2, 7, 1, 9]))\n",
    "print(sort_list([5, -2, 3, -1, 0]))\n",
    "\n",
    "            "
   ]
  },
  {
   "cell_type": "code",
   "execution_count": null,
   "id": "c15660d7",
   "metadata": {},
   "outputs": [],
   "source": []
  },
  {
   "cell_type": "code",
   "execution_count": null,
   "id": "35e6d66e",
   "metadata": {},
   "outputs": [],
   "source": []
  }
 ],
 "metadata": {
  "kernelspec": {
   "display_name": "Python 3 (ipykernel)",
   "language": "python",
   "name": "python3"
  },
  "language_info": {
   "codemirror_mode": {
    "name": "ipython",
    "version": 3
   },
   "file_extension": ".py",
   "mimetype": "text/x-python",
   "name": "python",
   "nbconvert_exporter": "python",
   "pygments_lexer": "ipython3",
   "version": "3.10.5"
  }
 },
 "nbformat": 4,
 "nbformat_minor": 5
}
